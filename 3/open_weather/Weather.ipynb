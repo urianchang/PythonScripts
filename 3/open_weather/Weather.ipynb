{
 "cells": [
  {
   "cell_type": "code",
   "execution_count": 10,
   "metadata": {},
   "outputs": [],
   "source": [
    "with open('openweather_key.txt', 'r') as fs:\n",
    "    OPENWEATHER_KEY = fs.read().strip()\n",
    "    \n",
    "# AirNow.gov doesn't not give accurate readings since they are 24-hour aggregations\n",
    "with open('airnow_key.txt', 'r') as fs:\n",
    "    AIRNOW_KEY = fs.read().strip()"
   ]
  },
  {
   "cell_type": "code",
   "execution_count": 24,
   "metadata": {},
   "outputs": [],
   "source": [
    "from datetime import datetime\n",
    "from typing import Any, Dict, List, Optional\n",
    "\n",
    "import requests"
   ]
  },
  {
   "cell_type": "code",
   "execution_count": 59,
   "metadata": {},
   "outputs": [],
   "source": [
    "def get_air_quality(zipcode: str, date: str) -> Optional[List[Dict[str, Any]]]:\n",
    "    base_url = \"http://www.airnowapi.org/aq/forecast/zipCode/\"\n",
    "    params = {\n",
    "        \"format\": \"application/json\",\n",
    "        \"zipCode\": zipcode,\n",
    "        \"date\": date,\n",
    "        \"distance\": \"50\",\n",
    "        \"API_KEY\": AIRNOW_KEY\n",
    "    }\n",
    "    resp = requests.get(base_url, params)\n",
    "    return None if resp.status_code != 200 else resp.json()"
   ]
  },
  {
   "cell_type": "code",
   "execution_count": 60,
   "metadata": {},
   "outputs": [],
   "source": [
    "def get_weather(zipcode: str) -> Dict[str, Any]:\n",
    "    base_url = \"http://api.openweathermap.org/data/2.5/weather\"\n",
    "    params = {\n",
    "        \"zip\": zipcode,\n",
    "        \"appid\": OPENWEATHER_KEY\n",
    "    }\n",
    "    resp = requests.get(base_url, params)\n",
    "    return None if resp.status_code != 200 else resp.json()"
   ]
  },
  {
   "cell_type": "code",
   "execution_count": 61,
   "metadata": {},
   "outputs": [],
   "source": [
    "def kelvins_to_fahrenheit(k: float) -> float:\n",
    "    return (k - 273.15) * (9/5) + 32"
   ]
  },
  {
   "cell_type": "code",
   "execution_count": 62,
   "metadata": {},
   "outputs": [],
   "source": [
    "today: str = datetime.now().date().isoformat()\n",
    "\n",
    "lodging = {\n",
    "    \"Home\": \"95124\",\n",
    "    \"Bend\": \"97702\",\n",
    "    \"Hood River\": \"97031\",\n",
    "    \"Cannon Beach\": \"97138\",\n",
    "    \"Klamath Falls\": \"97601\",\n",
    "}"
   ]
  },
  {
   "cell_type": "code",
   "execution_count": 66,
   "metadata": {},
   "outputs": [
    {
     "name": "stdout",
     "output_type": "stream",
     "text": [
      "Home...\n",
      "\tSmoke+Haze\n",
      "\tTemp: 67.46F (Feels like 67.42F)\n",
      "\tAQI: 102 (Unhealthy for Sensitive Groups)\n",
      "\n",
      "Bend...\n",
      "\tClear\n",
      "\tTemp: 84.52F (Feels like 74.07F)\n",
      "\tAQI: -1 (Moderate)\n",
      "\n",
      "Hood River...\n",
      "\tClear\n",
      "\tTemp: 86.43F (Feels like 80.40F)\n",
      "\tAQI: -1 (Moderate)\n",
      "\n",
      "Cannon Beach...\n",
      "\tMist\n",
      "\tTemp: 62.17F (Feels like 59.02F)\n",
      "\tCould not get air quality data.\n",
      "\n",
      "Klamath Falls...\n",
      "\tSmoke\n",
      "\tTemp: 86.38F (Feels like 79.47F)\n",
      "\tCould not get air quality data.\n",
      "\n"
     ]
    }
   ],
   "source": [
    "for place, zipcode in lodging.items():\n",
    "    msg = f\"{place}...\"\n",
    "    \n",
    "    weather = get_weather(zipcode)\n",
    "    if weather:\n",
    "        description = \"+\".join([d['main'] for d in weather['weather']])\n",
    "        temperature = kelvins_to_fahrenheit(weather['main']['temp'])\n",
    "        feels_like = kelvins_to_fahrenheit(weather['main']['feels_like'])\n",
    "        msg += f\"\\n\\t{description}\\n\\tTemp: {temperature:.2f}F (Feels like {feels_like:.2f}F)\"\n",
    "    else:\n",
    "        msg += \"\\n\\tCould not get weather data.\"\n",
    "    \n",
    "    air = get_air_quality(zipcode, today)\n",
    "    if air:\n",
    "        air_now = air[0]\n",
    "        msg += f\"\\n\\tAQI: {air_now['AQI']} ({air_now['Category']['Name']})\"\n",
    "    else:\n",
    "        msg += \"\\n\\tCould not get air quality data.\"\n",
    "    \n",
    "    print(msg + \"\\n\")"
   ]
  },
  {
   "cell_type": "code",
   "execution_count": null,
   "metadata": {},
   "outputs": [],
   "source": []
  }
 ],
 "metadata": {
  "kernelspec": {
   "display_name": "Python 3",
   "language": "python",
   "name": "python3"
  },
  "language_info": {
   "codemirror_mode": {
    "name": "ipython",
    "version": 3
   },
   "file_extension": ".py",
   "mimetype": "text/x-python",
   "name": "python",
   "nbconvert_exporter": "python",
   "pygments_lexer": "ipython3",
   "version": "3.8.5"
  }
 },
 "nbformat": 4,
 "nbformat_minor": 4
}
